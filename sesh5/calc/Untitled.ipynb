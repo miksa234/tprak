{
 "cells": [
  {
   "cell_type": "code",
   "execution_count": 6,
   "id": "5793ddb1",
   "metadata": {},
   "outputs": [],
   "source": [
    "import numpy as np\n",
    "from scipy.linalg import hadamard\n",
    "from sympy import *\n",
    "from sympy.physics.quantum import TensorProduct\n",
    "\n",
    "p = Symbol('p')"
   ]
  },
  {
   "cell_type": "code",
   "execution_count": 289,
   "id": "eedef28c",
   "metadata": {},
   "outputs": [
    {
     "data": {
      "text/latex": [
       "$\\displaystyle 0.5 p + 0.5$"
      ],
      "text/plain": [
       "0.5*p + 0.5"
      ]
     },
     "execution_count": 289,
     "metadata": {},
     "output_type": "execute_result"
    }
   ],
   "source": [
    "# AUFGABE 3\n",
    "d=2\n",
    "b_1 = [Matrix([1, 0]), Matrix([0, 1])]\n",
    "b_3 = [1/sqrt(2)*Matrix([1, 1]), 1/sqrt(2)*Matrix([1, -1])]\n",
    "b_2 = [1/sqrt(2)*Matrix([1, 1j]), 1/sqrt(2)*Matrix([1, -1j])]\n",
    "\n",
    "\n",
    "basis_2 = [b_1, b_2, b_3]\n",
    "rho_2 = Matrix(b_1) @ Matrix(b_1).H\n",
    "rho_iso_2 = (1-p)*1/d**2 * eye(d**2) + p*rho_2\n",
    "\n",
    "\n",
    "simplify(mubs(basis_2, rho_iso_2, d=2, m=2))"
   ]
  },
  {
   "cell_type": "code",
   "execution_count": 253,
   "id": "ca4202a1",
   "metadata": {},
   "outputs": [
    {
     "data": {
      "text/latex": [
       "$\\displaystyle 7.11111111111111 p + 0.888888888888889$"
      ],
      "text/plain": [
       "7.11111111111111*p + 0.888888888888889"
      ]
     },
     "execution_count": 253,
     "metadata": {},
     "output_type": "execute_result"
    }
   ],
   "source": [
    "# AUFGABE3\n",
    "d = 3\n",
    "w = 1/2 * (-1 + 1j*sqrt(3))\n",
    "\n",
    "b1 = [Matrix([1, 0, 0]), Matrix([0, 1, 0]), Matrix([0, 0, 1])]\n",
    "b2 = [1/sqrt(3) *Matrix([1, 1, 1]),1/sqrt(3) * Matrix([1, w, w**2]), 1/sqrt(3) *Matrix([1, w**2, w])]\n",
    "b3 = [1/sqrt(3) *Matrix([1, w, w]), 1/sqrt(3) *Matrix([1, w**2, 1]), 1/sqrt(3) *Matrix([1, 1, w**2])]\n",
    "b4 = [1/sqrt(3) *Matrix([1, w**2, w**2]), 1/sqrt(3) *Matrix([1, w, 1]), 1/sqrt(3) *Matrix([1, 1, w])]\n",
    "\n",
    "basis_3 = [b1, b2, b3, b4]\n",
    "rho_3 = Matrix(b1) @ Matrix(b1).T\n",
    "rho_iso_3 = (1-p)*1/d**2 * eye(d**2) + p*rho_3\n",
    "\n",
    "simplify(mubs(basis_3, rho_iso_3, d=3, m=4))"
   ]
  },
  {
   "cell_type": "code",
   "execution_count": 302,
   "id": "d7c7b77f",
   "metadata": {},
   "outputs": [
    {
     "data": {
      "text/latex": [
       "$\\displaystyle 1.33333333333333 q$"
      ],
      "text/plain": [
       "1.33333333333333*q"
      ]
     },
     "execution_count": 302,
     "metadata": {},
     "output_type": "execute_result"
    }
   ],
   "source": [
    "# AUFGABE4\n",
    "q = Symbol('q')\n",
    "\n",
    "def pp(basis, d):\n",
    "    pp = zeros(d**2)\n",
    "    for i in range(d):\n",
    "        for j in range(d):\n",
    "            pp += TensorProduct(basis[0][j], basis[0][i]) @\\\n",
    "                  TensorProduct(basis[0][i], basis[0][j]).H\n",
    "    \n",
    "    p_sym = eye(d**2) + pp\n",
    "    p_asym = eye(d**2) - pp\n",
    "    return p_sym, p_asym\n",
    "\n",
    "d = 3\n",
    "p_sym_3, p_asym_3 = pp(basis_3, d=d)\n",
    "rho_W_3 = q * p_sym_3/(d*(d+1)) + (1-q)*p_asym_3/(d*(d-1))\n",
    "simplify(mubs(basis_3, rho_W_3, d=3, m=4))"
   ]
  },
  {
   "cell_type": "code",
   "execution_count": 298,
   "id": "fcc5a083",
   "metadata": {},
   "outputs": [],
   "source": [
    "def mubs(basis, rho, d, m):\n",
    "    I_MUB = 0\n",
    "    for k in range(m):\n",
    "        for i in range(d-1):\n",
    "            I_MUB += (TensorProduct(basis[k][i]@basis[k][i].H, (basis[k][i] @ basis[k][i].H)) @ rho).trace()\n",
    "            \n",
    "    return I_MUB"
   ]
  },
  {
   "cell_type": "code",
   "execution_count": 297,
   "id": "135fbb35",
   "metadata": {},
   "outputs": [
    {
     "data": {
      "text/latex": [
       "$\\displaystyle \\frac{\\sqrt{2} \\sin{\\left(2 p + \\frac{\\pi}{4} \\right)}}{2} + 1$"
      ],
      "text/plain": [
       "sqrt(2)*sin(2*p + pi/4)/2 + 1"
      ]
     },
     "execution_count": 297,
     "metadata": {},
     "output_type": "execute_result"
    }
   ],
   "source": [
    "# AUFGABE 2\n",
    "psi = Matrix([cos(p), 0, 0, sin(p)])\n",
    "rho = psi @ psi.T\n",
    "simplify(mubs(basis_2, rho, d=2, m=3))"
   ]
  },
  {
   "cell_type": "code",
   "execution_count": null,
   "id": "44595f1a",
   "metadata": {},
   "outputs": [],
   "source": []
  },
  {
   "cell_type": "code",
   "execution_count": null,
   "id": "57e2b6f5",
   "metadata": {},
   "outputs": [],
   "source": []
  },
  {
   "cell_type": "code",
   "execution_count": null,
   "id": "5d597e50",
   "metadata": {},
   "outputs": [],
   "source": []
  },
  {
   "cell_type": "code",
   "execution_count": null,
   "id": "7b34dc5c",
   "metadata": {},
   "outputs": [],
   "source": []
  },
  {
   "cell_type": "code",
   "execution_count": null,
   "id": "b7008830",
   "metadata": {},
   "outputs": [],
   "source": []
  }
 ],
 "metadata": {
  "kernelspec": {
   "display_name": "Python 3",
   "language": "python",
   "name": "python3"
  },
  "language_info": {
   "codemirror_mode": {
    "name": "ipython",
    "version": 3
   },
   "file_extension": ".py",
   "mimetype": "text/x-python",
   "name": "python",
   "nbconvert_exporter": "python",
   "pygments_lexer": "ipython3",
   "version": "3.9.5"
  }
 },
 "nbformat": 4,
 "nbformat_minor": 5
}
