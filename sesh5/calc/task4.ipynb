{
 "cells": [
  {
   "cell_type": "code",
   "execution_count": 2,
   "metadata": {},
   "outputs": [],
   "source": [
    "\n",
    "import sympy as sp\n"
   ]
  },
  {
   "cell_type": "code",
   "execution_count": 3,
   "metadata": {},
   "outputs": [],
   "source": [
    "\n",
    "x, y = sp.symbols(\"x y\")\n"
   ]
  },
  {
   "cell_type": "code",
   "execution_count": 4,
   "metadata": {},
   "outputs": [],
   "source": [
    "#Task1\n",
    "def DA(x, y):\n",
    "    return sp.sqrt(1 - ( sp.cos(x/2)*sp.sin(x/2)*sp.exp(sp.I*y) + sp.cos(x/2)*sp.sin(x/2)*sp.exp(-1*sp.I*y))**2 )\n",
    "\n",
    "def DB(x, y):\n",
    "    return sp.sqrt(1 - ( -1*sp.I*sp.cos(x/2)*sp.sin(x/2)*sp.exp(sp.I*y) + sp.I*sp.cos(x/2)*sp.sin(x/2)*sp.exp(-1*sp.I*y))**2 )\n",
    "    "
   ]
  },
  {
   "cell_type": "code",
   "execution_count": 5,
   "metadata": {},
   "outputs": [],
   "source": [
    "from sympy.physics.quantum import TensorProduct as TeP\n",
    "\n",
    "def alice(d, m, state): \n",
    "\n",
    "    w, p, q = sp.symbols(\"w, p, q\")\n",
    "\n",
    "    ##########################################\n",
    "    if d==2:\n",
    "        B1 = [sp.Matrix([1, 0]), sp.Matrix([0, 1])]\n",
    "        B2 = [1/sp.sqrt(2)*sp.Matrix([1, 1]), 1/sp.sqrt(2)*sp.Matrix([1, -1])]\n",
    "        B3 = [1/sp.sqrt(2)* sp.Matrix([1, sp.I]), 1/sp.sqrt(2)*sp.Matrix([1, - sp.I])]\n",
    "\n",
    "        Blist = [B1, B2, B3]\n",
    "    elif d==3:\n",
    "        B1 = [sp.Matrix([1, 0, 0]), sp.Matrix([0, 1, 0]), sp.Matrix([0,0,1 ])  ]\n",
    "        B2 = [1/sp.sqrt(3) * sp.Matrix([1, 1, 1]), 1/sp.sqrt(3) *sp.Matrix([1, w, w**2]), 1/sp.sqrt(3) * sp.Matrix([1 , w**2 ,w ])  ]\n",
    "        B3 = [1/sp.sqrt(3) * sp.Matrix([1, w, w]), 1/sp.sqrt(3) * sp.Matrix([1, w**2, 1 ])  , 1/sp.sqrt(3) *sp.Matrix([1, 1, w**2])]\n",
    "        B4 = [1/sp.sqrt(3) * sp.Matrix([1, w**2, w**2]), 1/sp.sqrt(3) * sp.Matrix([1, w,  1 ])  , 1/sp.sqrt(3) *sp.Matrix([1, 1, w])]\n",
    "\n",
    "        Blist = [B1, B2, B3, B4]\n",
    "\n",
    "    ##########################################\n",
    "    Mat = []\n",
    "    Matconj = []\n",
    "    B = []\n",
    "    for base in range(m):\n",
    "        B += Blist[base]\n",
    "\n",
    "    for vector in B:\n",
    "        M = vector @ vector.H\n",
    "        M2 = TeP(M, M)\n",
    "        Mat.append(M2)\n",
    "\n",
    "    for vector in B:\n",
    "        M = vector @ vector.H\n",
    "        M2 = TeP(M, sp.conjugate(M))\n",
    "        Matconj.append(M2)\n",
    "\n",
    "\n",
    "    \n",
    "\n",
    "    if state == \"Bell\":\n",
    "        #aufgabe 3\n",
    "        if d == 2:\n",
    "            #here should be the bell state\n",
    "            phiplus = 1/(sp.sqrt(2))*sp.Matrix([1, 0, 0, 1])\n",
    "            \n",
    "            \n",
    "            rho_bell = phiplus @ phiplus.H\n",
    "            rho = rho_bell\n",
    "        #aufgabe 3\n",
    "        elif d == 3:\n",
    "\n",
    "            ket0 = sp.Matrix([1, 0 ,0])\n",
    "            ket1 = sp.Matrix([0, 1 ,0])\n",
    "            ket2 = sp.Matrix([0, 0 ,1])\n",
    "\n",
    "            bellvec = 1/sp.sqrt(3)* (TeP(ket0, ket0) + TeP(ket1, ket1) + TeP(ket2, ket2))\n",
    "            bell = bellvec @ bellvec.H\n",
    "\n",
    "            rho_bell = sp.Identity(d**2) * 1/d**2*(1-p) + p* bell\n",
    "            rho = rho_bell\n",
    "\n",
    "    elif state == \"Werner\":\n",
    "        P = sp.zeros(d**2, d**2)  \n",
    "        for i in range(d):\n",
    "            for j in range(d):\n",
    "                b_1 = B1[j]\n",
    "                b_2 = B1[i]\n",
    "                P += TeP(b_1, b_2) @ TeP(b_2, b_1).H\n",
    "\n",
    "        P_sym = sp.Identity(d**2) + P\n",
    "        P_asym = sp.Identity(d**2) - P\n",
    "        rho_wern = q * P_sym/(d*(d+1)) + (1- q)*(P_asym)/(d*(d-1))\n",
    "        rho = rho_wern\n",
    "\n",
    "    \n",
    "    trace = 0\n",
    "    for matrix in Mat:\n",
    "        M = matrix @ rho\n",
    "        for i in range(d**2):\n",
    "            trace += M[i,i]\n",
    "    Unconj = trace.subs({w:sp.exp( 2 *sp.pi/d * sp.I )})\n",
    "\n",
    "    traceconj = 0\n",
    "    for matrix in Matconj:\n",
    "        M = matrix @ rho\n",
    "        for i in range(d**2):\n",
    "            traceconj += M[i,i]\n",
    "    Conj = traceconj.subs({w: sp.exp( 2 *sp.pi/d * sp.I ) })\n",
    "\n",
    "    return Unconj, Conj\n",
    "\n"
   ]
  },
  {
   "cell_type": "code",
   "execution_count": 6,
   "metadata": {},
   "outputs": [],
   "source": [
    " w, p, q = sp.symbols(\"w, p, q\")"
   ]
  },
  {
   "cell_type": "code",
   "execution_count": 20,
   "metadata": {},
   "outputs": [],
   "source": [
    "#Aufgabe 3\n",
    "state = \"Bell\"\n",
    "d = 2\n",
    "m = 2\n",
    "Unconj, Conj = alice(d, m, state)  "
   ]
  },
  {
   "cell_type": "code",
   "execution_count": 21,
   "metadata": {},
   "outputs": [
    {
     "data": {
      "text/latex": [
       "$\\displaystyle 2$"
      ],
      "text/plain": [
       "2"
      ]
     },
     "execution_count": 21,
     "metadata": {},
     "output_type": "execute_result"
    }
   ],
   "source": [
    "Unconj"
   ]
  },
  {
   "cell_type": "code",
   "execution_count": 9,
   "metadata": {},
   "outputs": [
    {
     "data": {
      "text/latex": [
       "$\\displaystyle 2$"
      ],
      "text/plain": [
       "2"
      ]
     },
     "execution_count": 9,
     "metadata": {},
     "output_type": "execute_result"
    }
   ],
   "source": [
    "Conj"
   ]
  },
  {
   "cell_type": "code",
   "execution_count": 10,
   "metadata": {},
   "outputs": [
    {
     "name": "stdout",
     "output_type": "stream",
     "text": [
      "d =  2 , m =  2 , State:  Bell\n",
      "For p =  0.0\n",
      "Unconjugated =  2.00000000000000\n",
      "Conjugated =  2.00000000000000\n",
      "For p =  0.25\n",
      "Unconjugated =  2.00000000000000\n",
      "Conjugated =  2.00000000000000\n",
      "For p =  0.5\n",
      "Unconjugated =  2.00000000000000\n",
      "Conjugated =  2.00000000000000\n",
      "For p =  0.75\n",
      "Unconjugated =  2.00000000000000\n",
      "Conjugated =  2.00000000000000\n",
      "For p =  1.0\n",
      "Unconjugated =  2.00000000000000\n",
      "Conjugated =  2.00000000000000\n"
     ]
    }
   ],
   "source": [
    "i = 0.0\n",
    "print(\"d = \", d, \", m = \", m, \", State: \", state)\n",
    "while i <= 1.0:\n",
    "    valun = sp.re(Unconj.subs({p:i, w:sp.exp(sp.I*2*sp.pi/d)}).evalf())\n",
    "    valcon = sp.re(Conj.subs({ p:i, w:sp.exp(sp.I*2*sp.pi/d)}).evalf())\n",
    "    print(\"For p = \", i)\n",
    "    print(\"Unconjugated = \", valun)\n",
    "    print(\"Conjugated = \", valcon)\n",
    "    i+=0.25"
   ]
  },
  {
   "cell_type": "code",
   "execution_count": 11,
   "metadata": {},
   "outputs": [],
   "source": [
    "state = \"Werner\"\n",
    "d = 2\n",
    "m = 3\n",
    "Unconj, Conj = alice(d, m, state)  "
   ]
  },
  {
   "cell_type": "code",
   "execution_count": 12,
   "metadata": {},
   "outputs": [
    {
     "data": {
      "text/latex": [
       "$\\displaystyle 2 q$"
      ],
      "text/plain": [
       "2*q"
      ]
     },
     "execution_count": 12,
     "metadata": {},
     "output_type": "execute_result"
    }
   ],
   "source": [
    "Unconj"
   ]
  },
  {
   "cell_type": "code",
   "execution_count": 13,
   "metadata": {},
   "outputs": [
    {
     "data": {
      "text/latex": [
       "$\\displaystyle \\frac{2 q}{3} + 1$"
      ],
      "text/plain": [
       "2*q/3 + 1"
      ]
     },
     "execution_count": 13,
     "metadata": {},
     "output_type": "execute_result"
    }
   ],
   "source": [
    "Conj"
   ]
  },
  {
   "cell_type": "code",
   "execution_count": 14,
   "metadata": {},
   "outputs": [
    {
     "name": "stdout",
     "output_type": "stream",
     "text": [
      "d =  2 , m =  3 , State:  Werner\n",
      "For p =  0.0\n",
      "Unconjugated =  0\n",
      "Conjugated =  1.00000000000000\n",
      "For p =  0.25\n",
      "Unconjugated =  0.500000000000000\n",
      "Conjugated =  1.16666666666667\n",
      "For p =  0.5\n",
      "Unconjugated =  1.00000000000000\n",
      "Conjugated =  1.33333333333333\n",
      "For p =  0.75\n",
      "Unconjugated =  1.50000000000000\n",
      "Conjugated =  1.50000000000000\n",
      "For p =  1.0\n",
      "Unconjugated =  2.00000000000000\n",
      "Conjugated =  1.66666666666667\n"
     ]
    }
   ],
   "source": [
    "#Aufgabe 4\n",
    "i = 0.0\n",
    "print(\"d = \", d, \", m = \", m, \", State: \", state)\n",
    "while i <= 1.0:\n",
    "    valun = sp.re(Unconj.subs({q:i, w:sp.exp(sp.I*2*sp.pi/d)}).evalf())\n",
    "    valcon = sp.re(Conj.subs({ q:i, w:sp.exp(sp.I*2*sp.pi/d)}).evalf())\n",
    "    print(\"For p = \", i)\n",
    "    print(\"Unconjugated = \", valun)\n",
    "    print(\"Conjugated = \", valcon)\n",
    "    i+=0.25"
   ]
  },
  {
   "cell_type": "code",
   "execution_count": null,
   "metadata": {},
   "outputs": [],
   "source": []
  },
  {
   "cell_type": "code",
   "execution_count": null,
   "metadata": {},
   "outputs": [],
   "source": []
  },
  {
   "cell_type": "code",
   "execution_count": null,
   "metadata": {},
   "outputs": [],
   "source": []
  },
  {
   "cell_type": "code",
   "execution_count": null,
   "metadata": {},
   "outputs": [],
   "source": []
  },
  {
   "cell_type": "code",
   "execution_count": null,
   "metadata": {},
   "outputs": [],
   "source": []
  },
  {
   "cell_type": "code",
   "execution_count": null,
   "metadata": {},
   "outputs": [],
   "source": []
  },
  {
   "cell_type": "code",
   "execution_count": null,
   "metadata": {},
   "outputs": [],
   "source": []
  },
  {
   "cell_type": "code",
   "execution_count": null,
   "metadata": {},
   "outputs": [],
   "source": []
  },
  {
   "cell_type": "code",
   "execution_count": null,
   "metadata": {},
   "outputs": [],
   "source": []
  },
  {
   "cell_type": "code",
   "execution_count": null,
   "metadata": {},
   "outputs": [],
   "source": []
  },
  {
   "cell_type": "code",
   "execution_count": null,
   "metadata": {},
   "outputs": [],
   "source": []
  },
  {
   "cell_type": "code",
   "execution_count": null,
   "metadata": {},
   "outputs": [],
   "source": []
  },
  {
   "cell_type": "code",
   "execution_count": null,
   "metadata": {},
   "outputs": [],
   "source": []
  },
  {
   "cell_type": "code",
   "execution_count": null,
   "metadata": {},
   "outputs": [],
   "source": []
  },
  {
   "cell_type": "code",
   "execution_count": null,
   "metadata": {},
   "outputs": [],
   "source": []
  },
  {
   "cell_type": "code",
   "execution_count": null,
   "metadata": {},
   "outputs": [],
   "source": []
  },
  {
   "cell_type": "code",
   "execution_count": null,
   "metadata": {},
   "outputs": [],
   "source": []
  },
  {
   "cell_type": "code",
   "execution_count": null,
   "metadata": {},
   "outputs": [],
   "source": []
  }
 ],
 "metadata": {
  "interpreter": {
   "hash": "ee36a872144e01c68ec3aa3caf33536f3803d01a906cfaf7250c1aecc58053d7"
  },
  "kernelspec": {
   "display_name": "Python 3",
   "language": "python",
   "name": "python3"
  },
  "language_info": {
   "codemirror_mode": {
    "name": "ipython",
    "version": 3
   },
   "file_extension": ".py",
   "mimetype": "text/x-python",
   "name": "python",
   "nbconvert_exporter": "python",
   "pygments_lexer": "ipython3",
   "version": "3.9.5"
  },
  "metadata": {
   "interpreter": {
    "hash": "56478dce9f9bc57d89b9e60ef5c051fa56e4b5d6ab8e261fa1a5710bdfcea7e7"
   }
  }
 },
 "nbformat": 4,
 "nbformat_minor": 2
}
