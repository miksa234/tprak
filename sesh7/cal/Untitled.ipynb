{
 "cells": [
  {
   "cell_type": "code",
   "execution_count": 5,
   "id": "42d6aead",
   "metadata": {},
   "outputs": [],
   "source": [
    "from sympy import *\n",
    "from sympy.physics.quantum import TensorProduct\n"
   ]
  },
  {
   "cell_type": "code",
   "execution_count": 22,
   "id": "d23a5751",
   "metadata": {},
   "outputs": [],
   "source": [
    "_1 = Matrix([1, 0])\n",
    "_0 = Matrix([0, 1])\n",
    "_11 = TensorProduct(_1,_1)\n",
    "_00 =  TensorProduct(_0,_0)\n",
    "_10 = TensorProduct(_1,_0)\n",
    "_01 = TensorProduct(_0,_1)\n",
    "\n",
    "e1 = 1/sqrt(2)* (_01 - _10)\n",
    "e2 = 1/sqrt(2)* (_01 + _10)\n",
    "e3 = 1/sqrt(2)* (_00 - _11)\n",
    "e4 = 1/sqrt(2)* (_00 + _11)\n",
    "\n",
    "U_1 = Matrix([[1, 0 ], [0, 1]])\n",
    "U_2 = Matrix([[1, 0 ], [0, -1]])\n",
    "U_3 = Matrix([[0, 1 ], [1, 0]])\n",
    "U_4 = Matrix([[0, -1 ], [1, 0]])\n",
    "\n",
    "a = Symbol('a'); b = Symbol('b')\n",
    "phi_G = a*_0 + b*_1\n",
    "\n",
    "s3 = TensorProduct(phi_G, e1) @ TensorProduct(phi_G, e1).T"
   ]
  },
  {
   "cell_type": "code",
   "execution_count": 31,
   "id": "49577b06",
   "metadata": {},
   "outputs": [
    {
     "ename": "NameError",
     "evalue": "name 'axis' is not defined",
     "output_type": "error",
     "traceback": [
      "\u001b[0;31m---------------------------------------------------------------------------\u001b[0m",
      "\u001b[0;31mNameError\u001b[0m                                 Traceback (most recent call last)",
      "\u001b[0;32m<ipython-input-31-ed8c20e20c84>\u001b[0m in \u001b[0;36m<module>\u001b[0;34m\u001b[0m\n\u001b[0;32m----> 1\u001b[0;31m \u001b[0mtrace\u001b[0m\u001b[0;34m(\u001b[0m\u001b[0ms3\u001b[0m\u001b[0;34m,\u001b[0m \u001b[0maxis\u001b[0m\u001b[0;34m)\u001b[0m\u001b[0;34m\u001b[0m\u001b[0;34m\u001b[0m\u001b[0m\n\u001b[0m",
      "\u001b[0;31mNameError\u001b[0m: name 'axis' is not defined"
     ]
    }
   ],
   "source": [
    "trace(s3, axis)"
   ]
  },
  {
   "cell_type": "code",
   "execution_count": null,
   "id": "89a5225b",
   "metadata": {},
   "outputs": [],
   "source": []
  },
  {
   "cell_type": "code",
   "execution_count": null,
   "id": "0a84f58c",
   "metadata": {},
   "outputs": [],
   "source": []
  }
 ],
 "metadata": {
  "kernelspec": {
   "display_name": "Python 3",
   "language": "python",
   "name": "python3"
  },
  "language_info": {
   "codemirror_mode": {
    "name": "ipython",
    "version": 3
   },
   "file_extension": ".py",
   "mimetype": "text/x-python",
   "name": "python",
   "nbconvert_exporter": "python",
   "pygments_lexer": "ipython3",
   "version": "3.9.6"
  }
 },
 "nbformat": 4,
 "nbformat_minor": 5
}
