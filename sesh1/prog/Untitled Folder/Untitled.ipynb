{
 "cells": [
  {
   "cell_type": "code",
   "execution_count": 21,
   "id": "emotional-newman",
   "metadata": {},
   "outputs": [],
   "source": [
    "import numpy as np\n",
    "import sympy as sp\n",
    "import matplotlib.pyplot as plt\n",
    "from scipy.optimize import curve_fit\n",
    "from ipywidgets import interact\n",
    "global m_p; m_p = 0.13957\n",
    "\n",
    "sig_p = lambda x: np.sqrt(1 - 4*m_p**2/x)\n",
    "g_s = lambda s, m_q, g_q: g_q*s/m_q**2 * (sig_p(s)/sig_p(m_q**2))**3 * np.heaviside(s - 4*m_p**2, 0)\n",
    "\n",
    "def model(s, m_q, g_q, m_w, g_w, e_w, a, b, c):\n",
    "    part1 = (m_q)**4/((m_q**2 - s)**2 + m_q**2*g_s(s, m_q, g_q)**2)\n",
    "    part2 = 1 + (e_w * 2*s * (m_w**2 - s))/((m_w**2 - s)**2 + m_w**2*g_w**2)\n",
    "    part3 = c*(1 + a*s + b*s**2)**2\n",
    "    return part1 * part2 * part3"
   ]
  },
  {
   "cell_type": "code",
   "execution_count": null,
   "id": "fitting-consciousness",
   "metadata": {},
   "outputs": [],
   "source": []
  },
  {
   "cell_type": "code",
   "execution_count": 16,
   "id": "western-clearing",
   "metadata": {},
   "outputs": [],
   "source": [
    "data = np.loadtxt('../data/SND-VFF.txt')\n",
    "x_data = data[:,0]\n",
    "y_data = data[:, 1]\n",
    "sigma = data[:, 2]\n",
    "p0 = [0.765 ,0.115 ,0.813 ,0.041 ,-0.006 ,-1.005 ,1.014 ,1.854]     # guess"
   ]
  },
  {
   "cell_type": "code",
   "execution_count": 75,
   "id": "confidential-mapping",
   "metadata": {},
   "outputs": [
    {
     "data": {
      "text/plain": [
       "[<matplotlib.lines.Line2D at 0x7f25c8f59460>]"
      ]
     },
     "execution_count": 75,
     "metadata": {},
     "output_type": "execute_result"
    },
    {
     "data": {
      "image/png": "[encoded data removed]",
      "text/plain": [
       "<Figure size 720x504 with 1 Axes>"
      ]
     },
     "metadata": {
      "needs_background": "light"
     },
     "output_type": "display_data"
    }
   ],
   "source": [
    "\n",
    "data = np.loadtxt('../data/SND-VFF.txt')\n",
    "cov_stat = np.loadtxt('../data/BABAR-StatCov.txt')\n",
    "x_data = data[:,0]\n",
    "y_data = data[:, 1]\n",
    "\n",
    "p0 = [0.9, 0.2, 0.81, 0.04, 0.02, -1, 0.84, 1.55]   # in GeV\n",
    "\n",
    "p, pcov = curve_fit(model, x_data, y_data, p0)#, sigma=cov_stat)\n",
    "x_model = np.linspace(x_data[0], x_data[-1], 200)\n",
    "\n",
    "plt.figure(figsize=[10, 7])\n",
    "plt.scatter(x_data, y_data, c='black')\n",
    "plt.plot(x_model, model(x_model, *p))"
   ]
  },
  {
   "cell_type": "code",
   "execution_count": 64,
   "id": "numerous-concord",
   "metadata": {},
   "outputs": [
    {
     "data": {
      "text/plain": [
       "[<matplotlib.lines.Line2D at 0x7f25c96d1520>]"
      ]
     },
     "execution_count": 64,
     "metadata": {},
     "output_type": "execute_result"
    },
    {
     "data": {
      "image/png": "[encoded data removed]",
      "text/plain": [
       "<Figure size 432x288 with 1 Axes>"
      ]
     },
     "metadata": {
      "needs_background": "light"
     },
     "output_type": "display_data"
    }
   ],
   "source": []
  },
  {
   "cell_type": "code",
   "execution_count": 81,
   "id": "chief-kentucky",
   "metadata": {},
   "outputs": [
    {
     "data": {
      "text/plain": [
       "array([[0.032, 0.   , 0.   , ..., 0.   , 0.   , 0.   ],\n",
       "       [0.   , 0.032, 0.   , ..., 0.   , 0.   , 0.   ],\n",
       "       [0.   , 0.   , 0.032, ..., 0.   , 0.   , 0.   ],\n",
       "       ...,\n",
       "       [0.   , 0.   , 0.   , ..., 0.013, 0.   , 0.   ],\n",
       "       [0.   , 0.   , 0.   , ..., 0.   , 0.013, 0.   ],\n",
       "       [0.   , 0.   , 0.   , ..., 0.   , 0.   , 0.013]])"
      ]
     },
     "execution_count": 81,
     "metadata": {},
     "output_type": "execute_result"
    }
   ],
   "source": [
    "np.eye(len(x_data)) * np.array([0.032 if i<=2 else 0.013 for i in range(len(x_data))])"
   ]
  },
  {
   "cell_type": "code",
   "execution_count": null,
   "id": "administrative-india",
   "metadata": {},
   "outputs": [],
   "source": []
  },
  {
   "cell_type": "code",
   "execution_count": null,
   "id": "neither-store",
   "metadata": {},
   "outputs": [],
   "source": []
  },
  {
   "cell_type": "code",
   "execution_count": null,
   "id": "elder-celebration",
   "metadata": {},
   "outputs": [],
   "source": []
  },
  {
   "cell_type": "code",
   "execution_count": null,
   "id": "serious-forum",
   "metadata": {},
   "outputs": [],
   "source": []
  }
 ],
 "metadata": {
  "kernelspec": {
   "display_name": "Python 3",
   "language": "python",
   "name": "python3"
  },
  "language_info": {
   "codemirror_mode": {
    "name": "ipython",
    "version": 3
   },
   "file_extension": ".py",
   "mimetype": "text/x-python",
   "name": "python",
   "nbconvert_exporter": "python",
   "pygments_lexer": "ipython3",
   "version": "3.9.2"
  }
 },
 "nbformat": 4,
 "nbformat_minor": 5
}
