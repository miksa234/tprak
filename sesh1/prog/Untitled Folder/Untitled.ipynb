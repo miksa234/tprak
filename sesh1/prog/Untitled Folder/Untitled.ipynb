{
 "cells": [
  {
   "cell_type": "code",
   "execution_count": 52,
   "id": "automatic-recommendation",
   "metadata": {},
   "outputs": [],
   "source": [
    "import numpy as np\n",
    "from sympy import *\n",
    "global m_p; m_p = 0.13957\n",
    "from sympy.utilities.lambdify import lambdify\n",
    "\n"
   ]
  },
  {
   "cell_type": "code",
   "execution_count": 118,
   "id": "demographic-distributor",
   "metadata": {},
   "outputs": [],
   "source": [
    "#m_q, g_q, m_w, g_w, e_w, a, b, c = symbols(\"m_q g_q m_w g_w e_w a b c\")\n",
    "var = Matrix(symbols(\"m_q g_q m_w g_w e_w a b c\"))\n",
    "p0 = [0.765 ,0.115 ,0.813 ,0.041 ,-0.006 ,-1.005 ,1.014 ,1.854]     # guess"
   ]
  },
  {
   "cell_type": "code",
   "execution_count": 99,
   "id": "stock-julian",
   "metadata": {},
   "outputs": [],
   "source": [
    "sig_p = lambda x: sqrt(1 - 4*m_p**2/x)\n",
    "g_s = lambda s, m_q, g_q: g_q*s/m_q**2 * (sig_p(s)/sig_p(m_q**2))**3 * Heaviside(s, 4*m_p**2)\n",
    "\n",
    "def model(s, m_q, g_q, m_w, g_w, e_w, a, b, c):\n",
    "    part1 = (m_q)**4/((m_q**2 - s)**2 + m_q**2*g_s(s, m_q, g_q)**2)\n",
    "    part2 = 1 + (e_w * 2*s * (m_w**2 - s))/((m_w**2 - s)**2 + m_w**2*g_w**2)\n",
    "    part3 = c*(1 + a*s + b*s**2)**2\n",
    "    return part1 * part2 * part3\n",
    "\n",
    "def foo(a ,b ,c):\n",
    "    return a + b - c"
   ]
  },
  {
   "cell_type": "code",
   "execution_count": 100,
   "id": "elect-storm",
   "metadata": {},
   "outputs": [],
   "source": [
    "s_ = symbols(\"s\")\n",
    "y = model(s_, *var)"
   ]
  },
  {
   "cell_type": "code",
   "execution_count": 114,
   "id": "capital-lounge",
   "metadata": {},
   "outputs": [],
   "source": [
    "A = Matrix([y]).jacobian(var)\n",
    "A = A.subs({var[i]:p0[i] for i in range(len(p0))})\n",
    "\n",
    "sol = []\n",
    "\n",
    "s = np.linspace(0, 1, 100)\n",
    "for i in range(len(s)):\n",
    "    sol.append(A.subs({s_: s[i]}))\n",
    "    \n"
   ]
  },
  {
   "cell_type": "code",
   "execution_count": null,
   "id": "magnetic-possibility",
   "metadata": {},
   "outputs": [],
   "source": []
  },
  {
   "cell_type": "code",
   "execution_count": null,
   "id": "excessive-exhibition",
   "metadata": {},
   "outputs": [],
   "source": []
  },
  {
   "cell_type": "code",
   "execution_count": null,
   "id": "brave-addiction",
   "metadata": {},
   "outputs": [],
   "source": []
  },
  {
   "cell_type": "code",
   "execution_count": null,
   "id": "continental-snapshot",
   "metadata": {},
   "outputs": [],
   "source": []
  }
 ],
 "metadata": {
  "kernelspec": {
   "display_name": "Python 3",
   "language": "python",
   "name": "python3"
  },
  "language_info": {
   "codemirror_mode": {
    "name": "ipython",
    "version": 3
   },
   "file_extension": ".py",
   "mimetype": "text/x-python",
   "name": "python",
   "nbconvert_exporter": "python",
   "pygments_lexer": "ipython3",
   "version": "3.9.2"
  }
 },
 "nbformat": 4,
 "nbformat_minor": 5
}
