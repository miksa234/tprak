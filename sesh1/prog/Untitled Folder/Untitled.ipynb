{
 "cells": [
  {
   "cell_type": "code",
   "execution_count": 23,
   "id": "automatic-recommendation",
   "metadata": {},
   "outputs": [],
   "source": [
    "import numpy as np\n",
    "from scipy.optimize import curve_fit\n",
    "import matplotlib.pyplot as plt\n",
    "global m_p; m_p = 0.13957\n",
    "from ipywidgets import interact"
   ]
  },
  {
   "cell_type": "code",
   "execution_count": 31,
   "id": "demographic-distributor",
   "metadata": {},
   "outputs": [
    {
     "data": {
      "application/vnd.jupyter.widget-view+json": {
       "model_id": "6d9961d305ea48e0b650fda599667a73",
       "version_major": 2,
       "version_minor": 0
      },
      "text/plain": [
       "interactive(children=(FloatSlider(value=0.7, description='m_q', max=1.0), FloatSlider(value=0.2, description='…"
      ]
     },
     "metadata": {},
     "output_type": "display_data"
    },
    {
     "data": {
      "text/plain": [
       "<function __main__.somefunc(m_q=0.7, g_q=0.2, m_w=1, g_w=0.2, e_w=0.002, a=-500, b=200, c=0.2)>"
      ]
     },
     "execution_count": 31,
     "metadata": {},
     "output_type": "execute_result"
    }
   ],
   "source": [
    "sig_p = lambda x: np.sqrt(1 - 4*m_p**2/x)\n",
    "g_s = lambda s, m_q, g_q: g_q*s/m_q**2 * (sig_p(s)/sig_p(m_q**2))**3 * np.heaviside(s , 4*m_p**2)\n",
    "\n",
    "def model(s, m_q, g_q, m_w, g_w, e_w, a, b, c):\n",
    "    part1 = (m_q)**4/((m_q**2 - s)**2 + m_q**2*g_s(s, m_q, g_q)**2)\n",
    "    part2 = 1 + (e_w * 2*s * (m_w**2 - s))/((m_w**2 - s)**2 + m_w**2*g_w**2)\n",
    "    part3 = c*(1 + a*s + b*s**2)**2\n",
    "    return part1 * part2 * part3\n",
    "\n",
    "def somefunc(m_q=0.7, g_q=0.2, m_w=1, g_w=0.2, e_w=2e-3, a=-500, b=200, c=0.2): \n",
    "    data = np.loadtxt('../data/SND-VFF.txt')\n",
    "    s = data[:,0]\n",
    "    F2 = data[:, 1]\n",
    "    sigma = data[:, 2]\n",
    "\n",
    "    p0 = [m_q, g_q, m_w, g_w, e_w, a, b, c]   # in GeV\n",
    "    popt, pcov = curve_fit(model, s, F2, p0, sigma=np.sqrt(sigma))\n",
    "    popt, uncert = np.round(popt, 3), np.round(np.sqrt(np.diagonal(pcov)), 3)\n",
    "\n",
    "    plt.figure(figsize=[10, 7])\n",
    "    plt.title('SND DATA FIT')\n",
    "    plt.scatter(s, F2, marker='.', c='black')\n",
    "    plt.plot(s, model(s, *popt), color='red')\n",
    "    plt.annotate('Very Bad, A guessing game with the parameters', (0.15, 40))\n",
    "    plt.annotate(r'No $\\omega$ resonance recognized by the fit', (0.15, 35))\n",
    "\n",
    "    plt.annotate(r'$M_{\\rho} = $' + f'({popt[0]}' + r'$\\pm$' + f'{uncert[0]}) GeV', (0.7, 40))\n",
    "    plt.annotate(r'$\\Gamma_{\\rho} = $' + f'({popt[1]}' + r'$\\pm$' + f'{uncert[1]}) GeV', (0.7, 36))\n",
    "    plt.annotate(r'$M_{\\omega} = $' + f'({popt[2]}' + r'$\\pm$' + f'{uncert[2]}) GeV', (0.7, 34))\n",
    "    plt.annotate(r'$\\Gamma_{\\omega} = $' + f'({popt[3]}' + r'$\\pm$' + f'{uncert[3]}) GeV', (0.7, 32))\n",
    "    \n",
    "interact(somefunc, m_q=(0, 1, 0.1), g_q=(0, 1, 0.1), m_w=(0, 1, 0.1), g_w=(0, 1, 0.1), e_w=(2e-3, 2e-2, 5e-3),\\\n",
    "                     a=(-100, 100, 0.1), b=(-100, 100, 0.1), c=(0, 100, 0.1))\n"
   ]
  },
  {
   "cell_type": "code",
   "execution_count": null,
   "id": "stock-julian",
   "metadata": {},
   "outputs": [],
   "source": []
  },
  {
   "cell_type": "code",
   "execution_count": null,
   "id": "elect-storm",
   "metadata": {},
   "outputs": [],
   "source": []
  }
 ],
 "metadata": {
  "kernelspec": {
   "display_name": "Python 3",
   "language": "python",
   "name": "python3"
  },
  "language_info": {
   "codemirror_mode": {
    "name": "ipython",
    "version": 3
   },
   "file_extension": ".py",
   "mimetype": "text/x-python",
   "name": "python",
   "nbconvert_exporter": "python",
   "pygments_lexer": "ipython3",
   "version": "3.9.2"
  }
 },
 "nbformat": 4,
 "nbformat_minor": 5
}
